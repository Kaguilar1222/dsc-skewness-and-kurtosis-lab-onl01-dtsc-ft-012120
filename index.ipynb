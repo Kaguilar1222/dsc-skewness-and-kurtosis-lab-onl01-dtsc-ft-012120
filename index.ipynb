{
 "cells": [
  {
   "cell_type": "markdown",
   "metadata": {},
   "source": [
    "# Skewness and Kurtosis - Lab\n",
    "\n",
    "## Introduction\n",
    "\n",
    "In this lab, you'll calculate skewness and kurtosis for a given dataset in SciPy using Python.\n",
    "\n",
    "## Objectives\n",
    "You will be able to:\n",
    "\n",
    "* Calculate and interpret values of skewness and kurtosis\n",
    "\n",
    "## Bring in SciPy\n",
    "In the previous lesson, you have seen formulas to calculate skewness and kurtosis for your data. SciPy comes packaged with these functions and provides an easy way to calculate these two quantities, see [scipy.stats.kurtosis](https://docs.scipy.org/doc/scipy/reference/generated/scipy.stats.kurtosis.html#scipy.stats.kurtosis) and [scipy.stats.skew](https://docs.scipy.org/doc/scipy/reference/generated/scipy.stats.skew.html). Check out the official SciPy documentation to dig deeper into this. Otherwise, simply pull up the documentation within the Jupyter notebook using `shift+tab` within the function call or pull up the full documentation with `kurtosis?` or `skew?`, once you have imported these methods from the SciPy package.\n",
    "\n",
    "You'll generate two datasets and measure/visualize and compare their skew and kurtosis in this lab."
   ]
  },
  {
   "cell_type": "code",
   "execution_count": 4,
   "metadata": {},
   "outputs": [],
   "source": [
    "# Import required libraries\n",
    "import numpy as np\n",
    "import matplotlib.pyplot as plt\n",
    "\n",
    "from scipy.stats import kurtosis, skew"
   ]
  },
  {
   "cell_type": "markdown",
   "metadata": {},
   "source": [
    "## Take 1\n",
    "* Generate a random normal variable `x_random` in NumPy with 10,000 values. Set the mean value to 0 and the standard deviation to 2.\n",
    "* Plot a histogram of the data, set bins to `auto` (default). \n",
    "* Calculate the skewness and kurtosis for this data distribution using the SciPy functions.\n",
    "* Record your observations about the calculated values and the shape of the data. "
   ]
  },
  {
   "cell_type": "code",
   "execution_count": 21,
   "metadata": {},
   "outputs": [
    {
     "name": "stdout",
     "output_type": "stream",
     "text": [
      "-0.017652397631238523\n",
      "-0.01698602400937954\n"
     ]
    }
   ],
   "source": [
    "x_random = np.random.normal(loc = 0, scale = 2, size = 10000)\n",
    "skew_random = skew(x_random, bias=True)\n",
    "kurtosis_random = kurtosis(x_random, fisher=True, bias=True)\n",
    "print(skew_random)\n",
    "print(kurtosis_random)"
   ]
  },
  {
   "cell_type": "code",
   "execution_count": 22,
   "metadata": {},
   "outputs": [
    {
     "data": {
      "text/plain": [
       "(array([  1.,   0.,   2.,   1.,   3.,   3.,   7.,  11.,  24.,  27.,  38.,\n",
       "         62.,  73., 112., 109., 169., 186., 238., 283., 326., 385., 433.,\n",
       "        524., 559., 553., 608., 580., 555., 545., 522., 531., 451., 402.,\n",
       "        365., 285., 217., 178., 161., 127., 118.,  70.,  56.,  27.,  18.,\n",
       "         22.,  15.,   7.,   4.,   5.,   2.]),\n",
       " array([-7.72215598, -7.43025668, -7.13835737, -6.84645807, -6.55455876,\n",
       "        -6.26265946, -5.97076015, -5.67886085, -5.38696154, -5.09506224,\n",
       "        -4.80316294, -4.51126363, -4.21936433, -3.92746502, -3.63556572,\n",
       "        -3.34366641, -3.05176711, -2.7598678 , -2.4679685 , -2.1760692 ,\n",
       "        -1.88416989, -1.59227059, -1.30037128, -1.00847198, -0.71657267,\n",
       "        -0.42467337, -0.13277406,  0.15912524,  0.45102454,  0.74292385,\n",
       "         1.03482315,  1.32672246,  1.61862176,  1.91052107,  2.20242037,\n",
       "         2.49431968,  2.78621898,  3.07811828,  3.37001759,  3.66191689,\n",
       "         3.9538162 ,  4.2457155 ,  4.53761481,  4.82951411,  5.12141342,\n",
       "         5.41331272,  5.70521202,  5.99711133,  6.28901063,  6.58090994,\n",
       "         6.87280924]),\n",
       " <a list of 50 Patch objects>)"
      ]
     },
     "execution_count": 22,
     "metadata": {},
     "output_type": "execute_result"
    },
    {
     "data": {
      "image/png": "[encoded data removed]",
      "text/plain": [
       "<Figure size 432x288 with 1 Axes>"
      ]
     },
     "metadata": {
      "needs_background": "light"
     },
     "output_type": "display_data"
    }
   ],
   "source": [
    "# Skewness = -0.0025781248189666343\n",
    "# kurtosis = 0.03976806960642154\n",
    "plt.hist(x_random, bins = 50)"
   ]
  },
  {
   "cell_type": "markdown",
   "metadata": {
    "collapsed": true
   },
   "source": [
    "### Your observations here \n",
    "We set a mean and standard deviation for our random dataset so we are working with a symmetrial distribution. However, we have some platykurtosis at -.03, which we can see from the abbreviated tails and steep drop from the mean."
   ]
  },
  {
   "cell_type": "markdown",
   "metadata": {},
   "source": [
    "## Take 2\n",
    "\n",
    "Let's generate another distribution "
   ]
  },
  {
   "cell_type": "code",
   "execution_count": 23,
   "metadata": {},
   "outputs": [],
   "source": [
    "x = np.linspace( -5, 5, 10000 )\n",
    "y = 1./(np.sqrt(2.*np.pi)) * np.exp( -.5*(x)**2  )  # normal distribution"
   ]
  },
  {
   "cell_type": "markdown",
   "metadata": {},
   "source": [
    "* Plot a histogram for data $y$, and set bins to auto (default).\n",
    "* Calculate the skewness and kurtosis for this data distribution using the SciPy functions.\n",
    "* Record your observations about the calculated values and the shape of the data."
   ]
  },
  {
   "cell_type": "code",
   "execution_count": 24,
   "metadata": {},
   "outputs": [
    {
     "data": {
      "text/plain": [
       "(array([4406.,  520.,  330.,  250.,  202.,  174.,  152.,  138.,  124.,\n",
       "         116.,  108.,  102.,   96.,   92.,   86.,   86.,   80.,   80.,\n",
       "          76.,   74.,   74.,   72.,   70.,   70.,   68.,   68.,   66.,\n",
       "          66.,   66.,   66.,   66.,   66.,   66.,   68.,   66.,   70.,\n",
       "          68.,   70.,   72.,   74.,   76.,   80.,   82.,   86.,   94.,\n",
       "         102.,  112.,  132.,  170.,  402.]),\n",
       " array([1.48671951e-06, 7.98030160e-03, 1.59591165e-02, 2.39379313e-02,\n",
       "        3.19167462e-02, 3.98955611e-02, 4.78743760e-02, 5.58531909e-02,\n",
       "        6.38320057e-02, 7.18108206e-02, 7.97896355e-02, 8.77684504e-02,\n",
       "        9.57472652e-02, 1.03726080e-01, 1.11704895e-01, 1.19683710e-01,\n",
       "        1.27662525e-01, 1.35641340e-01, 1.43620154e-01, 1.51598969e-01,\n",
       "        1.59577784e-01, 1.67556599e-01, 1.75535414e-01, 1.83514229e-01,\n",
       "        1.91493044e-01, 1.99471859e-01, 2.07450673e-01, 2.15429488e-01,\n",
       "        2.23408303e-01, 2.31387118e-01, 2.39365933e-01, 2.47344748e-01,\n",
       "        2.55323563e-01, 2.63302378e-01, 2.71281193e-01, 2.79260007e-01,\n",
       "        2.87238822e-01, 2.95217637e-01, 3.03196452e-01, 3.11175267e-01,\n",
       "        3.19154082e-01, 3.27132897e-01, 3.35111712e-01, 3.43090526e-01,\n",
       "        3.51069341e-01, 3.59048156e-01, 3.67026971e-01, 3.75005786e-01,\n",
       "        3.82984601e-01, 3.90963416e-01, 3.98942231e-01]),\n",
       " <a list of 50 Patch objects>)"
      ]
     },
     "execution_count": 24,
     "metadata": {},
     "output_type": "execute_result"
    },
    {
     "data": {
      "image/png": "[encoded data removed]",
      "text/plain": [
       "<Figure size 432x288 with 1 Axes>"
      ]
     },
     "metadata": {
      "needs_background": "light"
     },
     "output_type": "display_data"
    }
   ],
   "source": [
    "plt.hist(y, bins = 50)"
   ]
  },
  {
   "cell_type": "code",
   "execution_count": 28,
   "metadata": {},
   "outputs": [
    {
     "name": "stdout",
     "output_type": "stream",
     "text": [
      "1.109511549276228 -0.31039027765889804\n"
     ]
    }
   ],
   "source": [
    "skew_y = skew(y, bias=True)\n",
    "kurtosis_y = kurtosis(y, fisher=True, bias=True)\n",
    "print(skew_y, kurtosis_y)"
   ]
  },
  {
   "cell_type": "markdown",
   "metadata": {},
   "source": [
    "### Your observations here \n",
    "This is a highly positive skewed dataset which we can see from the histogram with a very high datapoint on the left side. It is also negatively platykurtic (it is obviously abnormal) and our histogram starts to slant upward again on the right side."
   ]
  },
  {
   "cell_type": "markdown",
   "metadata": {},
   "source": [
    "## Summary\n",
    "\n",
    "In this lesson we learned how to calculate, visualize, and analyze the skewness and kurtosis for any given distribution. We worked with synthetic datasets at this stage to get the concepts cleared up. Later we will try these techniques on real datasets to see if they are fit for analysis (or not). "
   ]
  }
 ],
 "metadata": {
  "kernelspec": {
   "display_name": "Python 3",
   "language": "python",
   "name": "python3"
  },
  "language_info": {
   "codemirror_mode": {
    "name": "ipython",
    "version": 3
   },
   "file_extension": ".py",
   "mimetype": "text/x-python",
   "name": "python",
   "nbconvert_exporter": "python",
   "pygments_lexer": "ipython3",
   "version": "3.6.9"
  },
  "toc": {
   "base_numbering": 1,
   "nav_menu": {},
   "number_sections": true,
   "sideBar": true,
   "skip_h1_title": false,
   "title_cell": "Table of Contents",
   "title_sidebar": "Contents",
   "toc_cell": false,
   "toc_position": {},
   "toc_section_display": true,
   "toc_window_display": false
  },
  "varInspector": {
   "cols": {
    "lenName": 16,
    "lenType": 16,
    "lenVar": 40
   },
   "kernels_config": {
    "python": {
     "delete_cmd_postfix": "",
     "delete_cmd_prefix": "del ",
     "library": "var_list.py",
     "varRefreshCmd": "print(var_dic_list())"
    },
    "r": {
     "delete_cmd_postfix": ") ",
     "delete_cmd_prefix": "rm(",
     "library": "var_list.r",
     "varRefreshCmd": "cat(var_dic_list()) "
    }
   },
   "types_to_exclude": [
    "module",
    "function",
    "builtin_function_or_method",
    "instance",
    "_Feature"
   ],
   "window_display": false
  }
 },
 "nbformat": 4,
 "nbformat_minor": 2
}
